{
 "cells": [
  {
   "cell_type": "code",
   "execution_count": 72,
   "metadata": {},
   "outputs": [],
   "source": [
    "##code TOME VI\n",
    "\n",
    "import subprocess\n",
    "\n",
    "# ce script suppose qu'il a affaire à OpenSSL v1.1.1\n",
    "# vérifier avec \"openssl version\" en cas de doute.\n",
    "# attention à MacOS, qui fournit à la place LibreSSL.\n",
    "\n",
    "# en cas de problème, cette exception est déclenchée\n",
    "class OpensslError(Exception):\n",
    "    pass\n",
    "\n",
    "# Il vaut mieux être conscient de la différence entre str() et bytes()\n",
    "\n",
    "def encrypt(plaintext, passphrase, cipher='aes-128-cbc'):\n",
    "    \"\"\"invoke the OpenSSL library (though the openssl executable which must be\n",
    "       present on your system) to encrypt content using a symmetric cipher.\n",
    "\n",
    "       The passphrase is an str object (a unicode string)\n",
    "       The plaintext is str() or bytes()\n",
    "       The output is bytes()\n",
    "\n",
    "       # encryption use\n",
    "       >>> message = \"texte avec caractères accentués\"\n",
    "       >>> c = encrypt(message, 'foobar')       \n",
    "    \"\"\"\n",
    "    # prépare les arguments à envoyer à openssl\n",
    "    pass_arg = 'pass:{}'.format(passphrase)\n",
    "    args = ['openssl', 'enc', '-' + cipher, '-base64', '-pass', pass_arg, '-pbkdf2']\n",
    "    \n",
    "    # si plaintext est de stype str, on est obligé de l'encoder en bytes pour\n",
    "    # pouvoir l'envoyer dans le pipeline vers openssl\n",
    "    if isinstance(plaintext, str):\n",
    "        plaintext = plaintext.encode('utf-8')\n",
    "    \n",
    "    # ouvre le pipeline vers openssl. envoie plaintext sur le stdin de openssl, récupère stdout et stderr\n",
    "    #    affiche la commande invoquée\n",
    "    #    print('debug : {0}'.format(' '.join(args)))\n",
    "    result = subprocess.run(args, input=plaintext, stdout=subprocess.PIPE, stderr=subprocess.PIPE)\n",
    "\n",
    "    # si un message d'erreur est présent sur stderr, on arrête tout\n",
    "    # attention, sur stderr on récupère des bytes(), donc on convertit\n",
    "    error_message = result.stderr.decode()\n",
    "    if error_message != '':\n",
    "        raise OpensslError(error_message)\n",
    "\n",
    "    # OK, openssl a envoyé le chiffré sur stdout, en base64.\n",
    "    # On récupère des bytes, donc on en fait une chaine unicode\n",
    "    return result.stdout.decode()\n",
    "\n",
    "# TODO :\n",
    "# - implement the decrypt() method\n",
    "# - write a KeyPair class\n",
    "# - write a PublicKey class\n",
    "# - etc.\n",
    "\n",
    "import subprocess\n",
    "\n",
    "def decrypt(ciphertext, passphrase, cipher='aes-128-cbc'):\n",
    "    pass_arg = 'pass:{}'.format(passphrase)\n",
    "    args = ['openssl', 'enc', '-d', '-' + cipher, '-base64', '-pass', pass_arg, '-pbkdf2']\n",
    "    \n",
    "    if isinstance(ciphertext, str):\n",
    "        ciphertext = ciphertext.encode('utf-8')\n",
    "    \n",
    "    result = subprocess.run(args, input=ciphertext, stdout=subprocess.PIPE, stderr=subprocess.PIPE)\n",
    "    \n",
    "    error_message = result.stderr.decode()\n",
    "    if error_message != '':\n",
    "        raise OpensslError(error_message)\n",
    "\n",
    "    return result.stdout.decode()\n",
    "\n",
    "# Use passphrase \"ISECR0XX\" and ciphertext \"U2FsdGVkX1/WbDYaSahussONHdqrjmzAV5tw28+04aVawcBc5Q/WRPfGjpmk7kofK21vDQxLYTRlBfRuHOwtzg==\" to decrypt\n",
    "# decrypted = decrypt(\"K21vDQxLYTRlBfRuHOwtzg==\", \"ISECR0XX\")\n",
    "# print(\"Decrypted text:\", decrypted)\n"
   ]
  },
  {
   "cell_type": "code",
   "execution_count": 99,
   "metadata": {},
   "outputs": [
    {
     "data": {
      "text/plain": [
       "b'Salted__\\xd6l6\\x1aI\\xa8n\\xb2\\xc3\\x8d\\x1d\\xda\\xab\\x8el\\xc0W\\x9bp\\xdb\\xcf\\xb4\\xe1\\xa5Z\\xc1\\xc0\\\\\\xe5\\x0f\\xd6D\\xf7\\xc6\\x8e\\x99\\xa4\\xeeJ\\x1f+mo\\r\\x0cKa4e\\x05\\xf4n\\x1c\\xec-\\xce'"
      ]
     },
     "execution_count": 99,
     "metadata": {},
     "output_type": "execute_result"
    }
   ],
   "source": [
    "import base64\n",
    "\n",
    "base64.b64decode(\"U2FsdGVkX1/WbDYaSahussONHdqrjmzAV5tw28+04aVawcBc5Q/WRPfGjpmk7kofK21vDQxLYTRlBfRuHOwtzg==\")\n",
    "\n",
    "s = b'Salted__\\xd6l6\\x1aI\\xa8n\\xb2\\xc3\\x8d\\x1d\\xda\\xab\\x8el\\xc0W\\x9bp\\xdb\\xcf\\xb4\\xe1\\xa5Z\\xc1\\xc0\\\\\\xe5\\x0f\\xd6D\\xf7\\xc6\\x8e\\x99\\xa4\\xeeJ\\x1f+mo\\r\\x0cKa4e\\x05\\xf4n\\x1c\\xec-\\xce'\n",
    "\n",
    "s.hex()\n",
    "bytes.fromhex(s.hex())\n",
    "\n",
    "#print(decrypt(\"U2FsdGVkX1/WbDYaSahussONHdqrjmzAV5tw28+04aVawcBc5Q/WRPfGjpmk7kofK21vDQxLYTRlBfRuHOwtzg==\", \"ISECR0XX\"))"
   ]
  },
  {
   "cell_type": "code",
   "execution_count": 98,
   "metadata": {},
   "outputs": [
    {
     "ename": "OpensslError",
     "evalue": "error reading input file\n",
     "output_type": "error",
     "traceback": [
      "\u001b[0;31m---------------------------------------------------------------------------\u001b[0m",
      "\u001b[0;31mOpensslError\u001b[0m                              Traceback (most recent call last)",
      "Cell \u001b[0;32mIn [98], line 1\u001b[0m\n\u001b[0;32m----> 1\u001b[0m decrypt(\u001b[39m\"\u001b[39;49m\u001b[39m53616c7465645f5fd66c361a49a86eb2c38d1ddaab8e6cc0579b70dbcfb4e1a55ac1c05ce50fd644f7c68e99a4ee4a1f2b6d6f0d0c4b61346505f46e1cec2dce\u001b[39;49m\u001b[39m\"\u001b[39;49m,\u001b[39m\"\u001b[39;49m\u001b[39mISECR0XX\u001b[39;49m\u001b[39m\"\u001b[39;49m)\n",
      "Cell \u001b[0;32mIn [72], line 70\u001b[0m, in \u001b[0;36mdecrypt\u001b[0;34m(ciphertext, passphrase, cipher)\u001b[0m\n\u001b[1;32m     68\u001b[0m error_message \u001b[39m=\u001b[39m result\u001b[39m.\u001b[39mstderr\u001b[39m.\u001b[39mdecode()\n\u001b[1;32m     69\u001b[0m \u001b[39mif\u001b[39;00m error_message \u001b[39m!=\u001b[39m \u001b[39m'\u001b[39m\u001b[39m'\u001b[39m:\n\u001b[0;32m---> 70\u001b[0m     \u001b[39mraise\u001b[39;00m OpensslError(error_message)\n\u001b[1;32m     72\u001b[0m \u001b[39mreturn\u001b[39;00m result\u001b[39m.\u001b[39mstdout\u001b[39m.\u001b[39mdecode()\n",
      "\u001b[0;31mOpensslError\u001b[0m: error reading input file\n"
     ]
    }
   ],
   "source": [
    "decrypt(\"53616c7465645f5fd66c361a49a86eb2c38d1ddaab8e6cc0579b70dbcfb4e1a55ac1c05ce50fd644f7c68e99a4ee4a1f2b6d6f0d0c4b61346505f46e1cec2dce\",\"ISECR0XX\")"
   ]
  },
  {
   "attachments": {},
   "cell_type": "markdown",
   "metadata": {},
   "source": [
    "## tests"
   ]
  },
  {
   "cell_type": "code",
   "execution_count": 74,
   "metadata": {},
   "outputs": [
    {
     "data": {
      "text/plain": [
       "'paulîne'"
      ]
     },
     "execution_count": 74,
     "metadata": {},
     "output_type": "execute_result"
    }
   ],
   "source": [
    "'paulîne'.encode()\n",
    "b'paul\\xc3\\xaene'.decode()"
   ]
  }
 ],
 "metadata": {
  "kernelspec": {
   "display_name": "Python 3",
   "language": "python",
   "name": "python3"
  },
  "language_info": {
   "codemirror_mode": {
    "name": "ipython",
    "version": 3
   },
   "file_extension": ".py",
   "mimetype": "text/x-python",
   "name": "python",
   "nbconvert_exporter": "python",
   "pygments_lexer": "ipython3",
   "version": "3.8.10"
  },
  "orig_nbformat": 4,
  "vscode": {
   "interpreter": {
    "hash": "31f2aee4e71d21fbe5cf8b01ff0e069b9275f58929596ceb00d14d90e3e16cd6"
   }
  }
 },
 "nbformat": 4,
 "nbformat_minor": 2
}
